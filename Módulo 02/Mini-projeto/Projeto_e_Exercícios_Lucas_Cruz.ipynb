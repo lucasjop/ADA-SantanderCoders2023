{
  "cells": [
    {
      "cell_type": "markdown",
      "metadata": {
        "id": "FTYnmSsCgGpZ"
      },
      "source": [
        "# Mini-Projeto: Simulação de Jogo de Dados | Entrega (11/08 - Sexta-feira)\n",
        "\n",
        "## Objetivo\n",
        "\n",
        "Você tem a tarefa de criar uma simulação para um jogo de dados. Essa simulação tem como objetivo reunir estatísticas para analisar a justiça do jogo, possíveis resultados e fazer previsões sobre jogos futuros.\n",
        "\n",
        "## Desafios do Projeto\n",
        "\n",
        "1. **Simulação de Dados**: Crie uma função que simule o lançamento de dois dados de seis lados (valores de 1 a 6). Esta função deve retornar a soma dos resultados dos dados.\n",
        "\n",
        "2. **Múltiplas Simulações**: Use a função do passo 1 para simular um grande número de jogos de dados (digamos, 1000 jogos). Armazene o resultado de cada jogo em um array NumPy.\n",
        "\n",
        "3. **Análise de Dados**: Agora, vamos analisar os resultados desses jogos. Calcule e imprima o seguinte:\n",
        "- A média dos resultados.\n",
        "- O lançamento máximo e mínimo.\n",
        "- O número de vezes que cada possível lançamento (2, 3, 4, 5, 6, 7, 8, 9, 10, 11 e 12) ocorreu.\n",
        "- Teste de Hipótese: Agora vamos fazer um pouco de teste de hipóteses:\n",
        "  - Supondo um jogo justo (ou seja, todos os lançamentos são igualmente prováveis), o resultado da sua simulação coincide com essa suposição? Por que sim ou por que não?\n",
        "  - O que isso significa para um jogador do jogo de dados?\n",
        "\n",
        "## Entregáveis\n",
        "\n",
        "Link de um repositório no seu GitHub, contendo:\n",
        "- Um script Python (arquivo `.py` ou `.ipynb`) com a sua solução para os três desafios apresentados.\n"
      ]
    },
    {
      "cell_type": "markdown",
      "metadata": {
        "id": "eSCYfX_rsQwk"
      },
      "source": [
        "# Desafio"
      ]
    },
    {
      "cell_type": "markdown",
      "metadata": {
        "id": "LGt26SCEzc4F"
      },
      "source": [
        "1. **Simulação de Dados**: Crie uma função que simule o lançamento de dois dados de seis lados (valores de 1 a 6). Esta função deve retornar a soma dos resultados dos dados."
      ]
    },
    {
      "cell_type": "code",
      "execution_count": 11,
      "metadata": {
        "id": "yfMi4bo5gGpl"
      },
      "outputs": [],
      "source": [
        "import numpy as np\n",
        "import matplotlib.pyplot as plt"
      ]
    },
    {
      "cell_type": "code",
      "execution_count": 12,
      "metadata": {
        "id": "WNlIZbtIsPTd"
      },
      "outputs": [],
      "source": [
        "\"\"\"Essa função recebe como parâmetro um inteiro que representa a quantidade de\n",
        "lançamentos dos dados. Retorna um array unidimensional no qual cada posição\n",
        "representa a soma dos lançamentos.\n",
        "\"\"\"\n",
        "def lancar_dados(qtd: int):\n",
        "  dado1 = np.random.randint(1, 7, qtd)\n",
        "  dado2 = np.random.randint(1, 7, qtd)\n",
        "\n",
        "  return dado1 + dado2"
      ]
    },
    {
      "cell_type": "markdown",
      "metadata": {
        "id": "kpSN9VCqzgod"
      },
      "source": [
        "2. **Múltiplas Simulações**: Use a função do passo 1 para simular um grande número de jogos de dados (digamos, 1000 jogos). Armazene o resultado de cada jogo em um array NumPy."
      ]
    },
    {
      "cell_type": "code",
      "execution_count": 13,
      "metadata": {
        "id": "uxhBqFQwt0dU"
      },
      "outputs": [],
      "source": [
        "lancamentos = lancar_dados(1000000)"
      ]
    },
    {
      "cell_type": "markdown",
      "metadata": {
        "id": "zDmmePCvutAK"
      },
      "source": [
        "3. **Análise de Dados**: Agora, vamos analisar os resultados desses jogos. Calcule e imprima o seguinte:\n",
        "- A média dos resultados.\n",
        "- O lançamento máximo e mínimo.\n",
        "- O número de vezes que cada possível lançamento (2, 3, 4, 5, 6, 7, 8, 9, 10, 11 e 12) ocorreu.\n",
        "- Teste de Hipótese: Agora vamos fazer um pouco de teste de hipóteses:\n",
        "  - Supondo um jogo justo (ou seja, todos os lançamentos são igualmente prováveis), o resultado da sua simulação coincide com essa suposição? Por que sim ou por que não?\n",
        "  - O que isso significa para um jogador do jogo de dados?"
      ]
    },
    {
      "cell_type": "code",
      "execution_count": 14,
      "metadata": {
        "colab": {
          "base_uri": "https://localhost:8080/",
          "height": 715
        },
        "id": "YECUvKAtuve5",
        "outputId": "f193f19b-efc0-4206-8143-8e5772663ba0"
      },
      "outputs": [
        {
          "name": "stdout",
          "output_type": "stream",
          "text": [
            "A Média dos resultados foi: 7.001729\n",
            "O maior lançamento foi: 12, ele saiu 27759 vez(-es)\n",
            "O menor lançamento foi: 2, ele saiu 27710 vez(-ez)\n",
            "Valor: 2 - Ocorrências: 27710\n",
            "Valor: 3 - Ocorrências: 55457\n",
            "Valor: 4 - Ocorrências: 83214\n",
            "Valor: 5 - Ocorrências: 111155\n",
            "Valor: 6 - Ocorrências: 138579\n",
            "Valor: 7 - Ocorrências: 167153\n",
            "Valor: 8 - Ocorrências: 138648\n",
            "Valor: 9 - Ocorrências: 111563\n",
            "Valor: 10 - Ocorrências: 82979\n",
            "Valor: 11 - Ocorrências: 55783\n",
            "Valor: 12 - Ocorrências: 27759\n"
          ]
        },
        {
          "data": {
            "image/png": "[encoded data removed]",
            "text/plain": [
              "<Figure size 640x480 with 1 Axes>"
            ]
          },
          "metadata": {},
          "output_type": "display_data"
        }
      ],
      "source": [
        "print(f\"A Média dos resultados foi: {lancamentos.mean()}\")\n",
        "max = lancamentos.max()\n",
        "min = lancamentos.min()\n",
        "print(f\"O maior lançamento foi: {max}, ele saiu {len(np.where(lancamentos == max)[0])} vez(-es)\")\n",
        "print(f\"O menor lançamento foi: {min}, ele saiu {len(np.where(lancamentos == min)[0])} vez(-ez)\")\n",
        "\n",
        "\n",
        "# Calcula os valores de lançamento e suas ocorreências\n",
        "valores, ocorrencias = np.unique(lancamentos, return_counts=True)\n",
        "\n",
        "# Imprime a contagem de ocorrências para cada valor\n",
        "for valor, ocorrencia in zip(valores, ocorrencias):\n",
        "    print(\"Valor:\", valor, \"- Ocorrências:\", ocorrencia)\n",
        "\n",
        "# Criar o histograma dos resultados\n",
        "plt.bar(valores, ocorrencias)\n",
        "\n",
        "# Configurar os eixos e o título\n",
        "plt.xlabel('Resultados')\n",
        "plt.ylabel('Frequência')\n",
        "plt.title('Gráfico de barras dos Resultados')\n",
        "\n",
        "# Mostrar o gráfico\n",
        "plt.show()"
      ]
    },
    {
      "cell_type": "markdown",
      "metadata": {
        "id": "8RzdjcX-0mwm"
      },
      "source": [
        "- Teste de Hipótese: Agora vamos fazer um pouco de teste de hipóteses:\n",
        "  - Supondo um jogo justo (ou seja, todos os lançamentos são igualmente prováveis), o resultado da sua simulação coincide com essa suposição? Por que sim ou por que não?\n",
        "  - O que isso significa para um jogador do jogo de dados?\n",
        "\n",
        "  Supondo que a justiça do jogo se baseasse na igualdade de probabilidade dos resultados (2,...,12) os resultados apresentados não estão de acordo. Se assim fosse, com resultados igualmente prováveis o gráfico para uma quantidade de lançamentos muito grande deveria ter barras de mesmo tamanho.\n",
        "  Entretanto quando fazemos a simulação com muitos lançamentos, percebe-se que a maior ocorrência acontece no número 7, que nesse caso é a moda, mediana e média, e começam a diminuir para os valores equidistantes. Tendo seus valores mínimos para os resultados 2 e 12.\n",
        "  Isso está de acordo com o Teorema dos Grandes Números, que diz que para muitos lançamentos, o resultado esperado deve refletir a probabilidade calculada.\n",
        "  Assim, o resultado 7 é o que tem a maior probabilidade, visto que existem mais maneiras de se obter 7: (1, 6), (6,1), (2,5), (5,2), (4,3), (3,4). Portanto, a suposição inicial é Falso. Os resultados não são igualmente prováveis.\n",
        "\n",
        "  Para um jogador desse jogo isso siginifca que o jogo é justo e honesto, considerando que os dados não são viciados, mas os resultados esperados estão de acordo com as probabilidades. Se ele vai apostar em algum resultado, que seja o 7 :)"
      ]
    }
  ],
  "metadata": {
    "colab": {
      "collapsed_sections": [
        "Cxnyc3vWgGpo",
        "6N8e9CyKgGpp",
        "RhPx-Xr3gGps",
        "I__m6MY7gGpu",
        "VpHDUVRDgGpv",
        "7BY5afSrgGpw",
        "VTD9ZW6TgGpw",
        "zYzvpcpvgGpx",
        "Qoh1zorlgGpy",
        "qMZaz_wogGpy"
      ],
      "provenance": []
    },
    "kernelspec": {
      "display_name": "Python 3",
      "language": "python",
      "name": "python3"
    },
    "language_info": {
      "codemirror_mode": {
        "name": "ipython",
        "version": 3
      },
      "file_extension": ".py",
      "mimetype": "text/x-python",
      "name": "python",
      "nbconvert_exporter": "python",
      "pygments_lexer": "ipython3",
      "version": "3.11.3"
    },
    "orig_nbformat": 4
  },
  "nbformat": 4,
  "nbformat_minor": 0
}
